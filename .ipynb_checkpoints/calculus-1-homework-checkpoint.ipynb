{
 "cells": [
  {
   "cell_type": "code",
   "execution_count": null,
   "metadata": {},
   "outputs": [],
   "source": [
    "%load_ext autoreload\n",
    "%autoreload 2\n",
    "\n",
    "%matplotlib inline"
   ]
  },
  {
   "cell_type": "markdown",
   "metadata": {},
   "source": [
    "## Basic setup"
   ]
  },
  {
   "cell_type": "markdown",
   "metadata": {},
   "source": [
    "Create anaconda environment\n",
    "<br>\n",
    "```bash\n",
    "conda create -n ml python=3.7.4 jupyter\n",
    "```\n",
    "Install fastai library\n",
    "<br>\n",
    "```bash\n",
    "conda install -c pytorch -c fastai fastai\n",
    "```"
   ]
  },
  {
   "cell_type": "code",
   "execution_count": null,
   "metadata": {},
   "outputs": [],
   "source": [
    "!pip install https://github.com/ipython-contrib/jupyter_contrib_nbextensions/tarball/master\n",
    "!pip install jupyter_nbextensions_configurator\n",
    "!jupyter contrib nbextension install --user\n",
    "!jupyter nbextensions_configurator enable --user"
   ]
  },
  {
   "cell_type": "markdown",
   "metadata": {},
   "source": [
    "# Metric spaces"
   ]
  },
  {
   "cell_type": "markdown",
   "metadata": {},
   "source": [
    "#### Prove that:\n",
    "For every metric space (X, d):\n",
    "- For eny $\\mathcal{U} = \\{U | U$ is open in $(X, d)\\}$ holds $\\bigcup_{U \\in \\mathcal{U}} U$ is open in $(X, d)$\n",
    "- For eny two $U, V \\subset X$ open in $(X, d)$ holds: $U \\cap V$ is open in $(X, d)$\n",
    "- $X$ is open in $(X, d)$\n",
    "- $\\emptyset$ is open in $(X, d)$\n",
    "<br>\n",
    "$--Answer--$\n",
    "<br>\n",
    "$1.$ We should have $a > 0$, and $(x - a, x + a) \\in U$\n",
    "<br>\n",
    "$2.$ Intersection will be $\\epsilon = \\max (\\epsilon _ 1, \\epsilon _ 2)$\n",
    "<br>\n",
    "$3.$ any ball is subset of $X$, so it will be open \n",
    "<br>\n",
    "$4.$ for every $ x\\in \\emptyset$ we will have $a >0$ where $(x - a, x + a) \\in \\emptyset$, so it is open "
   ]
  },
  {
   "cell_type": "markdown",
   "metadata": {},
   "source": [
    "#### Prove that:\n",
    "- For eny finity set $(U)_{i=1}^{n}$ of open sets in $(X, d)$, $\\bigcap_{i=1}^{n}U$ is open in $(X, d)$\n",
    "<br>\n",
    "$--Answer--$\n",
    "<br>\n",
    "Suppose that $U_i$ is an open set.\n",
    "<br>\n",
    "So, for every $U_i$ we will have $\\epsilon_i$\n",
    "<br>\n",
    "So, it is open in $(X,d)$"
   ]
  },
  {
   "cell_type": "markdown",
   "metadata": {},
   "source": [
    "#### Prove that for set \n",
    "<br>\n",
    "$U \\subset X$ is open if and only if for each point $x \\in U$ there exists the open neighbourhood $V$ of $x$ such that $V \\subset U$\n",
    "<br>\n",
    "$--Answer--$\n",
    "<br>\n",
    "Proove by contradiction. suppose we dont have an open neighbourhood $V$ for $x$ where $V \\in U$\n",
    "<br>\n",
    "Thus, for some $x \\in U$ we will have the cloded neighbourhood which can not be true.\n",
    "<br> \n",
    "So, it is open"
   ]
  },
  {
   "cell_type": "markdown",
   "metadata": {},
   "source": [
    "#### Prove that, closed ball is closed subset in $(X, d)$\n"
   ]
  },
  {
   "cell_type": "markdown",
   "metadata": {},
   "source": [
    "#### Prove that\n",
    "For every metric space (X, d):\n",
    "- For eny $\\mathcal{F} = \\{F | F$ is closed in $(X, d)\\}$ holds $\\bigcap_{F \\in \\mathcal{F}} F$ is closed in $(X, d)$\n",
    "- For eny two $F_1, F_2 \\subset X$ closed in $(X, d)$ holds: $F_1 \\cup F_2$ is closed in $(X, d)$\n",
    "- $X$ is closed in $(X, d)$\n",
    "- $\\emptyset$ is closed in $(X, d)$\n",
    "<br>\n",
    "$--Answer--$\n",
    "<br>\n",
    "$1.$\n",
    "<br>\n",
    "Suppose that $A = K \\bigcap_{F \\in \\mathcal {F}}^F$\n",
    "<br>\n",
    "$A$ will be $\\bigcup_{F \\in \\mathcal{F}}$ $K \\backslash F$. It is open set.\n",
    "<br>\n",
    "So, it is equal to $S\\backslash \\bigcap_{F\\in \\mathcal{F}}$\n",
    "<br>\n",
    "so it will be closed\n",
    "<br>\n",
    "$2.$\n",
    "<br>\n",
    "$S\\backslash F_1$ and $S\\backslash F_2$ are open sets so $S\\backslash (F_1 \\cup F_2)$\n",
    "<br>\n",
    "Hence, $F_1 \\cup F_2$  will be closed\n",
    "<br>\n",
    "$3.$\n",
    "<br>\n",
    "As we know $X \\backslash \\emptyset$ is $X$,  so it is a closed\n",
    "<br>\n",
    "$4.$\n",
    "<br>\n",
    "As we knowX is open, so $X\\backslash X$ is $\\emptyset$ and it will be closed."
   ]
  },
  {
   "cell_type": "markdown",
   "metadata": {},
   "source": [
    "#### Prove that:\n",
    "- For eny finity set $(F)_{i=1}^{n}$ of closed sets in $(X, d)$, $\\bigcup_{i=1}^{n}F$ is closed in $(X, d)$\n",
    "<br>\n",
    "$--Answer--$\n",
    "<br>\n",
    "$S \\backslash (S \\backslash \\bigcup_{i=1}^{nF})$ is same as:\n",
    "<br>\n",
    "$S \\backslash \\bigcup_{i=1}^{nF}$, and it will be closed set\n",
    "<br>\n"
   ]
  },
  {
   "cell_type": "markdown",
   "metadata": {},
   "source": [
    "#### Prove\n",
    "That, if $F \\subset X$ is closed then $X - F$ is open in $(X, d)$ \n",
    "<br>\n",
    "$--Answer--$\n",
    "<br>\n",
    "if $F \\in X$ is closed, it's complement will be open so $X - F$ is open\n"
   ]
  },
  {
   "cell_type": "markdown",
   "metadata": {},
   "source": [
    "# Metrics in Euclidean spaces"
   ]
  },
  {
   "cell_type": "markdown",
   "metadata": {},
   "source": [
    "<br>"
   ]
  },
  {
   "cell_type": "markdown",
   "metadata": {},
   "source": [
    "#### Prove the same properties hold for $d(u, v) = ||u-v||_1$ ($||u-v||_1 = \\sum_{i = 1}^{n}|u_i - v_i|$)\n",
    "<br>\n",
    "$--Answer--$\n",
    "<br>\n",
    "$d(u,v) = \\sum^n_{i=1}|u_i-v_i|$\n",
    "<br>\n",
    "As we know $|u_i-v_i|$ is positive so $d(u,v) >= 0$\n",
    "<br>\n",
    "In addition $v\\in R^n:d(v,v) = 0$ and $|v_i-v_i|$ is of course is 0\n",
    "<br>\n",
    "$u,v \\in R^n:d(u,v) = d(v,u)$ and $\\sum^n_{i=1}|v_i-u_i| = \\sum^n_{i=1}|u_i-v_i|$ \n",
    "<br>\n",
    "and we have that:\n",
    "<br>\n",
    "$u,v,w\\in R^n$ and $d(u,w) = \\sum_{i = 1}^{n}|u_i-v_i|$\n"
   ]
  },
  {
   "cell_type": "markdown",
   "metadata": {},
   "source": [
    "## Sequences and limits"
   ]
  },
  {
   "cell_type": "markdown",
   "metadata": {},
   "source": [
    "#### Prove that $x = \\lim_{n\\to\\infty}{x_n}$ in $(X, d)$ if and only if (iff) for every $r \\in \\mathbb{R}$ there exists $n_0 \\in \\mathbb{N}$ such that: $x_i \\in B(x, r)$ for every $i \\gt n_0$\n",
    "<br>\n",
    "$--Answer--$\n",
    "<br>\n",
    "So if we will have the following functions:\n",
    "<br>\n",
    "$(x_n)^\\infty _{n=1} \\subset X$ and\n",
    "<br>\n",
    "$\\lim_{n\\to\\infty}x_n = c$ and\n",
    "<br>\n",
    "$\\lim_{n\\to\\infty}f(x_n)=f(c)$\n",
    "<br>\n",
    "Thus,  $c\\in X$ where $\\lim_{n\\to\\infty}f(x_n)=f(c)$\n",
    "<br>\n",
    "so, it will be continouos in $c\\in X$"
   ]
  },
  {
   "cell_type": "markdown",
   "metadata": {},
   "source": [
    "#### Prove that if $x = \\lim_{n\\to\\infty}{x_n}$ and $x \\notin \\{-\\infty, \\infty\\}$ then $(x_i)_{i=1}^{\\infty} = (x_1, x_2, \\dots, x_n)$ is a Cauchy sequence\n",
    "<br>\n",
    "$--Answer--$\n",
    "<br>\n",
    "$x\\notin \\{-\\infty,\\infty\\}$ \n",
    "<br>\n",
    "so, $x$ is a finite number\n",
    "<br>\n",
    "Hence, $x\\in R$ and $n_0\\in N$ \n",
    "<br>\n",
    "And, there will be $d(x_i,x_j)<x$ where $i,j>n_0$\n",
    "<br>\n",
    "\n",
    "<br>"
   ]
  },
  {
   "cell_type": "markdown",
   "metadata": {},
   "source": [
    "#### Prove that if $F$ is open from previous example, statement does not hold. \n",
    "\n",
    "$--Answer--$\n",
    "<br>\n",
    "if we will have $F\\in R^n$ is an open set, we will have $x,y\\in F$ where $d(x,y)<c$\n",
    "<br>\n",
    "Hence, $n\\in N$ and  $d(x_i, \\lim_{n \\to \\infty} x_n) < \\epsilon$ \n",
    "<br>\n",
    "and this cant be true"
   ]
  },
  {
   "cell_type": "markdown",
   "metadata": {},
   "source": [
    "#### Prove that inherited metric is a metric"
   ]
  },
  {
   "cell_type": "markdown",
   "metadata": {},
   "source": [
    "<br>"
   ]
  },
  {
   "cell_type": "markdown",
   "metadata": {},
   "source": [
    "<br>"
   ]
  },
  {
   "cell_type": "markdown",
   "metadata": {},
   "source": [
    "<br>"
   ]
  },
  {
   "cell_type": "markdown",
   "metadata": {},
   "source": [
    "## Continuous functions "
   ]
  },
  {
   "cell_type": "markdown",
   "metadata": {},
   "source": [
    "#### Prove that function is continuous in $c$ if for eny sequence $(x_n)_{n=1}^{\\infty} \\subset X$ such that $\\lim_{n \\to \\infty}x_n = c$ we have $\\lim_{n \\to \\infty}f(x_n) = f(c)$"
   ]
  },
  {
   "cell_type": "markdown",
   "metadata": {},
   "source": [
    "#### Prove that function is continuous if for every open set $V \\subset Y$ the $f^{-1}(V)$ is open in $X$\n",
    "$--Answer--$\n",
    "<br>\n",
    "I dont know how to prove this"
   ]
  },
  {
   "cell_type": "markdown",
   "metadata": {},
   "source": [
    "#### Prove that function is continuous if for every closed set $F \\subset Y$ the $f^{-1}(F)$ is open in $X$\n",
    "$--Answer--$\n",
    "<br>\n",
    "I dont know how to prove this"
   ]
  },
  {
   "cell_type": "markdown",
   "metadata": {},
   "source": [
    "#### Prove that any composition of continous functions is continous"
   ]
  },
  {
   "cell_type": "code",
   "execution_count": null,
   "metadata": {},
   "outputs": [],
   "source": []
  }
 ],
 "metadata": {
  "kernelspec": {
   "display_name": "Python 3",
   "language": "python",
   "name": "python3"
  },
  "language_info": {
   "codemirror_mode": {
    "name": "ipython",
    "version": 3
   },
   "file_extension": ".py",
   "mimetype": "text/x-python",
   "name": "python",
   "nbconvert_exporter": "python",
   "pygments_lexer": "ipython3",
   "version": "3.6.5"
  }
 },
 "nbformat": 4,
 "nbformat_minor": 4
}
