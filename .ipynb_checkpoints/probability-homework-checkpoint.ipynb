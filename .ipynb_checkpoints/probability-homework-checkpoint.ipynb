{
 "cells": [
  {
   "cell_type": "code",
   "execution_count": null,
   "metadata": {},
   "outputs": [],
   "source": [
    "%load_ext autoreload\n",
    "%autoreload 2\n",
    "\n",
    "%matplotlib inline"
   ]
  },
  {
   "cell_type": "markdown",
   "metadata": {},
   "source": [
    "## Basic setup"
   ]
  },
  {
   "cell_type": "markdown",
   "metadata": {},
   "source": [
    "Create anaconda environment\n",
    "<br>\n",
    "```bash\n",
    "conda create -n ml python=3.7.4 jupyter\n",
    "```\n",
    "Install fastai library\n",
    "<br>\n",
    "```bash\n",
    "conda install -c pytorch -c fastai fastai\n",
    "```"
   ]
  },
  {
   "cell_type": "markdown",
   "metadata": {},
   "source": [
    "# Sigma-algebras"
   ]
  },
  {
   "cell_type": "markdown",
   "metadata": {},
   "source": [
    "#### Prove that:\n",
    "Composition of mesurable functions is a mesurable function\n",
    "<br>\n",
    "<br>\n",
    "In general let $(E_1,T_1)$,$(E_2,T_2)$,$(E_3,T_3)$ be three measurable spaces \n",
    "and $f:E_1→E_2$ and $g:E_2→E_3$ measurables functions.\n",
    "If $X \\in T_3$, then , by measurability of $g$ we have: $g^{−1}(X) \\in T_2$ \n",
    "<br>\n",
    "and by measurability of $f$ we have $f^{−1}(g^{−1}(X)) \\in T_1$. \n",
    "<br>\n",
    "Since $(g∘f)^{-1}(X)=f^{−1}(g^{−1}(X))$ we have :\n",
    "<br>\n",
    "$ ∀X \\in T_3(g∘f){−1}(X)∈T_1$\n",
    "This gives measurability of $g∘f$\n",
    "\n"
   ]
  },
  {
   "cell_type": "markdown",
   "metadata": {},
   "source": [
    "## Mesure"
   ]
  },
  {
   "cell_type": "markdown",
   "metadata": {},
   "source": [
    "#### Prove the following mesure properties:\n",
    "- if $A \\subset B$ then $\\mu(A) \\le \\mu(B)$\n",
    "<br>\n",
    "Proof: $(B - A) \\cup (A \\cap B) = (B - A) \\cup A = B$ and $(B - A) \\cap (A \\cap B) = \\emptyset$ so $\\mu((B - A) \\cup (A \\cap B)) = \\mu(B - A) + \\mu(A \\cap B) = \\mu(B - A) + \\mu(A) = \\mu(B)$ so $\\mu(A) \\le \\mu(B)$"
   ]
  },
  {
   "cell_type": "markdown",
   "metadata": {},
   "source": [
    "## Probability"
   ]
  },
  {
   "cell_type": "markdown",
   "metadata": {},
   "source": [
    "#### Prove that:\n",
    "For probability mesure $P$ and events $A, B, C \\subset \\Omega$\n",
    "- $P(A \\cup B) = P(A) + P(B) - P(A \\cap B)$\n",
    "<br>\n",
    "<br>\n",
    "$$--Answer--$$\n",
    "$P(A \\cup B) = P(A) + P(B) - P(A \\cap B) $\n",
    "<br>\n",
    "$ A \\cup B = (A - B) \\cup (A \\cap B) \\cup (B - A) $\n",
    "<br>\n",
    "<br>\n",
    "then by axiom we have\n",
    "<br>\n",
    "<br>\n",
    "$P(A \\cup B) = P(A - B) + P(B - A) + P(A \\cap B) $\n",
    "<br>\n",
    "$ As P(A - B) = P(A) - P(A \\cap B) $\n",
    "<br>\n",
    "<br>\n",
    "and\n",
    "<br>\n",
    "<br>\n",
    "$P(B - A) = P(B) - P(A \\cap B) $\n",
    "<br>\n",
    "<br>\n",
    "we can put this in the above formula and we will have\n",
    "<br>\n",
    "<br>\n",
    "$ P(A \\cup B) = P(A) - P(A \\cap B) + P(B) - P(A \\cap B) + P(A \\cap B) $\n",
    "<br>\n",
    "<br>\n",
    "and we will have\n",
    "<br>\n",
    "<br>\n",
    "$P(A \\cup B) = P(A) + P(B) - 2P(A \\cap B) + P(A \\cap B) $\n",
    "<br>\n",
    "<br>\n",
    "$And$\n",
    "<br>\n",
    "$$P(A \\cup B) = P(A) + P(B) - P(A \\cap B)$$\n",
    "\n"
   ]
  },
  {
   "cell_type": "markdown",
   "metadata": {},
   "source": [
    "## Random variable"
   ]
  },
  {
   "cell_type": "markdown",
   "metadata": {},
   "source": [
    "#### Prove that:\n",
    "$$\n",
    "\\sigma^2 = \\operatorname{E}[X^2] - (\\operatorname{E}[X])^2\n",
    "$$\n",
    "Assuming that expectation exists\n",
    "<br>\n",
    "Denoted by $\\sigma^2$\n",
    "<br>\n",
    "<br>\n",
    "\n",
    "$\\sigma^2 = E[(X−μ)^2]$\n",
    "<br>\n",
    "$\\sigma^2 = E[(X−E[X])^2]$\n",
    "<br>\n",
    "$\\sigma^2 = E[(X−E[X])(X−E[X])]$\n",
    "<br>\n",
    "$\\sigma^2 = E[X^2−2XE[X]+(E[X])^2]$\n",
    "<br>\n",
    "$\\sigma^2 = E[X^2]−2E[XE[X]]+E[(E[X])^2]$\n",
    "<br>\n",
    "$\\sigma^2 = E[X^2]−2E[X]E[X]+E[(E[X])^2]$\n",
    "<br>\n",
    "$\\sigma^2 = E[X^2]−2(E[X])^2+(E[X])^2$\n",
    "<br>\n",
    "$\\sigma^2 = E[X^2]−(E[X])^2$"
   ]
  },
  {
   "cell_type": "code",
   "execution_count": null,
   "metadata": {},
   "outputs": [],
   "source": []
  }
 ],
 "metadata": {
  "kernelspec": {
   "display_name": "Python 3",
   "language": "python",
   "name": "python3"
  },
  "language_info": {
   "codemirror_mode": {
    "name": "ipython",
    "version": 3
   },
   "file_extension": ".py",
   "mimetype": "text/x-python",
   "name": "python",
   "nbconvert_exporter": "python",
   "pygments_lexer": "ipython3",
   "version": "3.6.5"
  }
 },
 "nbformat": 4,
 "nbformat_minor": 4
}
