{
 "cells": [
  {
   "cell_type": "code",
   "execution_count": 1,
   "metadata": {},
   "outputs": [],
   "source": [
    "%load_ext autoreload\n",
    "%autoreload 2\n",
    "\n",
    "%matplotlib inline"
   ]
  },
  {
   "cell_type": "markdown",
   "metadata": {},
   "source": [
    "## Basic setup"
   ]
  },
  {
   "cell_type": "markdown",
   "metadata": {},
   "source": [
    "Create anaconda environment\n",
    "<br>\n",
    "```bash\n",
    "conda create -n ml python=3.7.4 jupyter\n",
    "```\n",
    "Install fastai library\n",
    "<br>\n",
    "```bash\n",
    "conda install -c pytorch -c fastai fastai\n",
    "```"
   ]
  },
  {
   "cell_type": "markdown",
   "metadata": {},
   "source": [
    "# Set theory basics"
   ]
  },
  {
   "cell_type": "markdown",
   "metadata": {},
   "source": [
    "#### Prove that:\n",
    "<br>\n",
    "$A \\subseteq A$\n",
    "<br>\n",
    "$--Answer--$\n",
    "<br>\n",
    "--A set is a subset of itself since a set contains all its elements\n"
   ]
  },
  {
   "cell_type": "markdown",
   "metadata": {},
   "source": [
    "#### Prove that:\n",
    "<br>\n",
    "If $A \\subseteq B$ and $B \\subseteq A$ $\\to$ $A = B$\n",
    "<br>\n",
    "$--Answer--$\n",
    "<br>\n",
    "if $A \\neq B $ then there exists $ x \\in A \\backslash B ($or $ x \\in B \\backslash A)$, however $A \\subseteq B $, clearly $x \\in B$. this is a contradiction so $A = B$"
   ]
  },
  {
   "cell_type": "markdown",
   "metadata": {},
   "source": [
    "#### Prove that:\n",
    "<br>\n",
    "if $B \\subset A$ then $A \\cap B = B$\n",
    "<br>\n",
    "$--Answer--$\n",
    "<br>\n",
    "\n",
    "Suppose $B \\subset A$, claim $A \\cap B = B$\n",
    "<br>\n",
    "Take any $x \\in A \\cap B$, then $ x \\in A$ and $x \\in B$\n",
    "<br>\n",
    "In particular $x \\in A$, so $A \\cap B \\subset A$\n",
    "<br>\n",
    "Take any $x \\in A$ Since $A \\subset B$ and $x \\in A$,\n",
    "<br>\n",
    "So, $x \\in B$ those we have $x \\in A$ and $x \\in B$,\n",
    "<br>\n",
    "So, $x \\in A \\cap B$, Hence $A \\subset A \\cap B$\n",
    "<br>\n",
    "Thus, $A \\cap B = A$"
   ]
  },
  {
   "cell_type": "markdown",
   "metadata": {},
   "source": [
    "#### Prove that:\n",
    "<br>\n",
    "$A \\cap B = B \\cap A$\n",
    "\n",
    "<br>\n",
    "$--Answer--$\n",
    "<br>\n",
    "$(1)$\n",
    "<br>\n",
    "Let $x \\in (A \\cap B)$\n",
    "<br>\n",
    "$\\implies x \\in A$ and $x \\in B$\n",
    "<br>\n",
    "$\\implies x \\in B$ and $x \\in A$\n",
    "<br>\n",
    "$\\implies x \\in (B \\cap A)$\n",
    "<br>\n",
    "So $\\implies (A \\cap B) \\subset (B \\cap A)$\n",
    "<br>\n",
    "\n",
    "\n",
    "Again $(2)$\n",
    "<br>\n",
    "$y \\in (B \\cap A)$\n",
    "<br>\n",
    "$\\implies y \\in B$ and $y \\in A$\n",
    "<br>\n",
    "$\\implies y \\in A$ and $x \\in B$\n",
    "<br>\n",
    "$\\implies y \\in (A \\cap B)$\n",
    "<br>\n",
    "So $\\implies (B \\cap A) \\subset (A \\cap B)$\n",
    "<br>\n",
    "\n",
    "From $(1)$ and $(2)$ \n",
    "$A \\cap B = B \\cap A$\n"
   ]
  },
  {
   "cell_type": "markdown",
   "metadata": {},
   "source": [
    "#### Prove that:\n",
    "<br>\n",
    "if $B \\subset A$ then $A \\cup B = A$\n",
    "<br>\n",
    "$--Answer--$\n",
    "<br>\n",
    "if $x \\in A \\cup B$ then $x \\in A$ or $x\\in B$\n",
    "<br>\n",
    "As we have $B \\subset A$, we will have $x \\in A$ so $A \\cup B = A$"
   ]
  },
  {
   "cell_type": "markdown",
   "metadata": {},
   "source": [
    "#### Prove that:\n",
    "<br>\n",
    "$A \\cup B = B \\cup A$\n",
    "<br>\n",
    "$--Answer--$\n",
    "\n",
    "<br>\n",
    "$(1)$\n",
    "<br>\n",
    "Let $x \\in (A \\cap B)$\n",
    "<br>\n",
    "$\\implies x \\in A$ or $x \\in B$\n",
    "<br>\n",
    "$\\implies x \\in B$ or $x \\in A$\n",
    "<br>\n",
    "$\\implies x \\in (B \\cup A)$\n",
    "<br>\n",
    "So $\\implies (A \\cup B) \\subset (B \\cup A)$\n",
    "<br>\n",
    "\n",
    "\n",
    "Again $(2)$\n",
    "<br>\n",
    "$y \\in (B \\cup A)$\n",
    "<br>\n",
    "$\\implies y \\in B$ or $y \\in A$\n",
    "<br>\n",
    "$\\implies y \\in A$ or $x \\in B$\n",
    "<br>\n",
    "$\\implies y \\in (A \\cup B)$\n",
    "<br>\n",
    "So $\\implies (B \\cup A) \\subset (A \\cup B)$\n",
    "<br>\n",
    "\n",
    "From $(1)$ and $(2)$ \n",
    "$A \\cup B = B \\cup A$"
   ]
  },
  {
   "cell_type": "markdown",
   "metadata": {},
   "source": []
  },
  {
   "cell_type": "markdown",
   "metadata": {},
   "source": [
    "#### Prove that \n",
    "- composition of injections is injection itself\n",
    "<br>\n",
    "$--Answer--$ \n",
    "<br>\n",
    "if $f(x_1)=f(x_2)$, then $x_1=x_2$.\n",
    "<br>\n",
    "So, assume f and g are injective and suppose\n",
    "<br>\n",
    "$g∘f(x_1)=g∘f(x_2)$\n",
    "<br>\n",
    "This means\n",
    "<br>\n",
    "$g(f(x_1))=g(f(x_2))$\n",
    "<br>\n",
    "that, by the injectivity of g, implies\n",
    "<br>\n",
    "$f(x_1)=f(x_2)$\n",
    "<br>\n",
    "Injectivity of f allows us to argue that\n",
    "<br>\n",
    "$x_1=x_2$\n",
    "<br>\n",
    "<br>\n",
    "<br>\n",
    "- composition of surjections is surjection itself\n",
    "<br>\n",
    "$--Answer--$\n",
    "<br>\n",
    "let $f:A→B$ and $g:B→C$ be surjective functions. \n",
    "<br>\n",
    "We wish to show that $g∘f:A→C$ is also surjective. \n",
    "<br>\n",
    "Now, we know that for every $c \\in C$, \n",
    "<br>\n",
    "there is a $b \\in B$ such that $c=g(b)$, by surjectivity of $g$. \n",
    "<br>\n",
    "And we know that for that same $b$, there exists an $a \\in A$ such that $b=f(a)$, by surjectivity of $f$. \n",
    "<br>\n",
    "So what we have shown is that for every $c \\in C$, there is an $a \\in A$ such that $c=g(f(a))=g∘f(a)$, \n",
    "<br>\n",
    "i.e., $g∘f$ is surjective.\n",
    "<br>\n",
    "<br>\n",
    "<br>\n",
    "- composition of bijections is bijection itself\n",
    "<br>\n",
    "$--Answer--$\n",
    "<br>\n",
    "Since they are bijections they have inverses $f^{−1}$, $g^{−1}$. from $B$ to $A$ and from $C$ to $B$\n",
    "<br>\n",
    "$(g∘f)∘(f^{−1}∘g^{−1})=(g∘1_C)∘g^{−1}=1_C$\n",
    "<br>\n",
    "$(f^−1∘g^{−1})∘(g∘f)=(f^{−1}∘1_A)∘f=1_A$\n",
    "<br>\n",
    "so $g∘f$ has an inverse and thus is bijective.\n",
    "<br>"
   ]
  },
  {
   "cell_type": "markdown",
   "metadata": {},
   "source": [
    "#### Prove that for each set $A$:\n",
    "<br>\n",
    "$--Answer--$\n",
    "<br>\n",
    "- $A \\cong A$\n",
    "<br>\n",
    "\n",
    "As the number of elemnets for both of them will be the same, and both of them is the same set there will be bijection realtionship between them. Also there will be surjective and injective relations too.\n",
    "\n",
    "<br>\n",
    "- if $B \\cong A$ then $B \\cong A$ for every pair of sets $A$ and $B$\n",
    "<br>\n",
    "\n",
    "if $B \\cong A$ bijection relation between $A$ and $B$, so it will be true also if we write $A \\cong B$\n",
    "\n",
    "<br>\n",
    "- if $A \\cong B$ and $B \\cong C$ then $A \\cong C$ for every triplet $A$, $B$ and $C$\n",
    "<br>\n",
    "\n",
    "if $A \\cong B$ and $B \\cong C$, so $A$ and $B$ have bijection relation and $B$ and $C$ also has the bijection relation. Also, the number of elements in the sets will be the same. and we can say that $A \\cong C$\n",
    "\n",
    "<br>"
   ]
  },
  {
   "cell_type": "markdown",
   "metadata": {},
   "source": [
    "#### Prove that:\n",
    "<br>\n",
    "there exists a bijection between set of natural and even numbers\n",
    "<br>\n",
    "<br>\n",
    "$--Answer--$\n",
    "<br>\n",
    "Using the concept of a bijective relationship, we can show that the set of all positive integers and the set of all even integers are of the same 'size'. We will have that there is all positive number is connected to each even number so,there exists a bijection between set of natural and even numbers\n",
    " \n"
   ]
  },
  {
   "cell_type": "markdown",
   "metadata": {},
   "source": [
    "#### Prove that:\n",
    "<br>\n",
    "if we have a bijection between two finite sets than they have an equal number of elements\n",
    "<br>\n",
    "$--Answer--$\n",
    "<br>\n",
    "Lets consider $A \\cong B $ and if there will be more elements in $A$ or in $B$ then there will not be bijection between them"
   ]
  },
  {
   "cell_type": "markdown",
   "metadata": {},
   "source": [
    "#### Prove that:\n",
    "<br>\n",
    "$A \\times B \\cong B \\times A$\n",
    "<br>\n",
    "$--Answer--$\n",
    "<br>\n",
    "for every $A \\times B$ we will have $(a,b)$ for which every $a \\in A$, and $b\\in B$.\n",
    "<br>\n",
    "We will have same for $B \\times A$. \n",
    "<br>\n",
    "The numbers of elements will be same so there is bijection between $A$ and $B$"
   ]
  },
  {
   "cell_type": "markdown",
   "metadata": {},
   "source": [
    "$\\cap_{i\\in I}A_i$ and $\\cup_{i\\in I}A_i$"
   ]
  },
  {
   "cell_type": "code",
   "execution_count": null,
   "metadata": {},
   "outputs": [],
   "source": [
    "# Inplement in python"
   ]
  },
  {
   "cell_type": "markdown",
   "metadata": {},
   "source": [
    "We can also define cartesian product of any \"number\" of sets $\\prod_{i \\in I}{A_i}$"
   ]
  },
  {
   "cell_type": "code",
   "execution_count": null,
   "metadata": {},
   "outputs": [],
   "source": [
    "# Inplement in python"
   ]
  },
  {
   "cell_type": "markdown",
   "metadata": {},
   "source": [
    "#### Prove that:\n",
    "<br>\n",
    "$$1. A \\cap (B \\cup C)=(A \\cap B) \\cup (A\\cap C)$$\n",
    "$$2. A \\cup (B \\cap C)=(A \\cup B) \\cap (A\\cup C)$$\n",
    "<br>\n",
    "<br>\n",
    "$1$\n",
    "<br>\n",
    "$B \\subset (B \\cup C)$\n",
    "<br>\n",
    "So, $(A \\cap B) \\subset A \\cap (B \\cup C)$\n",
    "<br>\n",
    "Also $C \\subset (B \\cup C)$\n",
    "<br> \n",
    "So, again $(A \\cap C) \\subset A \\cap (B \\cup C)$\n",
    "<br>\n",
    "So, based on these two equations we will have\n",
    "<br>\n",
    "$A \\cap (B \\cup C)=(A \\cap B) \\cup (A\\cap C)$\n",
    "\n",
    "<br>\n",
    "<br>\n",
    "$2$\n",
    "<br>\n",
    "Since $B \\cap C \\subset B$ and $B \\cap C \\subset C$, we have\n",
    "<br>\n",
    "$A \\cup (B \\cap C) \\subset A \\cup B$ and\n",
    "<br>\n",
    "$A \\cup (B \\cap C) \\subset A \\cup C$\n",
    "<br>\n",
    "This shows that $A \\cup (B \\cap C)$ is contained in both $A \\cup B$ and $A \\cup C$, so it is contained in their intersection:\n",
    "<br>\n",
    "$A \\cup (B \\cap C) = (A \\cup B) \\cap (A \\cup C)$\n"
   ]
  },
  {
   "cell_type": "markdown",
   "metadata": {},
   "source": [
    "# Linear Algebra"
   ]
  },
  {
   "cell_type": "markdown",
   "metadata": {},
   "source": [
    "#### Prove that:\n",
    "<br>\n",
    "$(AB)^{T} = B^{T}A^{T}$ for each pair of matrices $A, B \\in \\mathbb{R}^{n \\times m}$\n",
    "<br>\n",
    "$--Answer--$\n",
    "<br>\n",
    "$(AB)^T_{i,j} = \\sum^{n}_{k = 1} a_{j,k} b_{k,i} = AB_{j,i}$\n",
    "<br>\n",
    "$(B^TA^T)_{i,j} = \\sum^n_{k = 1}B^T_{i,k}A^T_{k,j} = \\sum^n_{k = 1}b_{k,i}a{j,k}$\n",
    "<br>\n",
    "Hence, $$(AB)^{T} = B^{T}A^{T}$$\n"
   ]
  },
  {
   "cell_type": "markdown",
   "metadata": {},
   "source": [
    "## Functions on tensors"
   ]
  },
  {
   "cell_type": "markdown",
   "metadata": {},
   "source": [
    "#### Write combination for $XOR$ calculation"
   ]
  },
  {
   "cell_type": "code",
   "execution_count": null,
   "metadata": {},
   "outputs": [],
   "source": []
  }
 ],
 "metadata": {
  "kernelspec": {
   "display_name": "Python 3",
   "language": "python",
   "name": "python3"
  },
  "language_info": {
   "codemirror_mode": {
    "name": "ipython",
    "version": 3
   },
   "file_extension": ".py",
   "mimetype": "text/x-python",
   "name": "python",
   "nbconvert_exporter": "python",
   "pygments_lexer": "ipython3",
   "version": "3.6.5"
  }
 },
 "nbformat": 4,
 "nbformat_minor": 4
}
